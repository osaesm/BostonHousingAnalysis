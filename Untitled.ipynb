{
 "cells": [
  {
   "cell_type": "code",
   "execution_count": 16,
   "metadata": {},
   "outputs": [
    {
     "name": "stdout",
     "output_type": "stream",
     "text": [
      "   ID     crim    zn  indus  chas    nox     rm   age     dis  rad  tax  \\\n",
      "0   1  0.00632  18.0   2.31     0  0.538  6.575  65.2  4.0900    1  296   \n",
      "1   2  0.02731   0.0   7.07     0  0.469  6.421  78.9  4.9671    2  242   \n",
      "2   4  0.03237   0.0   2.18     0  0.458  6.998  45.8  6.0622    3  222   \n",
      "3   5  0.06905   0.0   2.18     0  0.458  7.147  54.2  6.0622    3  222   \n",
      "4   7  0.08829  12.5   7.87     0  0.524  6.012  66.6  5.5605    5  311   \n",
      "\n",
      "   ptratio   black  lstat  medv  \n",
      "0     15.3  396.90   4.98  24.0  \n",
      "1     17.8  396.90   9.14  21.6  \n",
      "2     18.7  394.63   2.94  33.4  \n",
      "3     18.7  396.90   5.33  36.2  \n",
      "4     15.2  395.60  12.43  22.9  \n",
      "               ID        crim          zn       indus        chas         nox  \\\n",
      "count  333.000000  333.000000  333.000000  333.000000  333.000000  333.000000   \n",
      "mean   250.951952    3.360341   10.689189   11.293483    0.060060    0.557144   \n",
      "std    147.859438    7.352272   22.674762    6.998123    0.237956    0.114955   \n",
      "min      1.000000    0.006320    0.000000    0.740000    0.000000    0.385000   \n",
      "25%    123.000000    0.078960    0.000000    5.130000    0.000000    0.453000   \n",
      "50%    244.000000    0.261690    0.000000    9.900000    0.000000    0.538000   \n",
      "75%    377.000000    3.678220   12.500000   18.100000    0.000000    0.631000   \n",
      "max    506.000000   73.534100  100.000000   27.740000    1.000000    0.871000   \n",
      "\n",
      "               rm         age         dis         rad         tax     ptratio  \\\n",
      "count  333.000000  333.000000  333.000000  333.000000  333.000000  333.000000   \n",
      "mean     6.265619   68.226426    3.709934    9.633634  409.279279   18.448048   \n",
      "std      0.703952   28.133344    1.981123    8.742174  170.841988    2.151821   \n",
      "min      3.561000    6.000000    1.129600    1.000000  188.000000   12.600000   \n",
      "25%      5.884000   45.400000    2.122400    4.000000  279.000000   17.400000   \n",
      "50%      6.202000   76.700000    3.092300    5.000000  330.000000   19.000000   \n",
      "75%      6.595000   93.800000    5.116700   24.000000  666.000000   20.200000   \n",
      "max      8.725000  100.000000   10.710300   24.000000  711.000000   21.200000   \n",
      "\n",
      "            black       lstat        medv  \n",
      "count  333.000000  333.000000  333.000000  \n",
      "mean   359.466096   12.515435   22.768769  \n",
      "std     86.584567    7.067781    9.173468  \n",
      "min      3.500000    1.730000    5.000000  \n",
      "25%    376.730000    7.180000   17.400000  \n",
      "50%    392.050000   10.970000   21.600000  \n",
      "75%    396.240000   16.420000   25.000000  \n",
      "max    396.900000   37.970000   50.000000  \n"
     ]
    },
    {
     "data": {
      "text/plain": [
       "<matplotlib.figure.Figure at 0x1a19cee7f0>"
      ]
     },
     "metadata": {},
     "output_type": "display_data"
    },
    {
     "data": {
      "image/png": "[encoded data removed]",
      "text/plain": [
       "<matplotlib.figure.Figure at 0x1a18b0ad68>"
      ]
     },
     "metadata": {},
     "output_type": "display_data"
    },
    {
     "data": {
      "text/plain": [
       "<function seaborn.utils.despine>"
      ]
     },
     "execution_count": 16,
     "metadata": {},
     "output_type": "execute_result"
    }
   ],
   "source": [
    "import numpy as np\n",
    "import pandas as pd\n",
    "import matplotlib.pyplot as plt\n",
    "# from pandas.plotting import scatter_matrix\n",
    "import seaborn as sns\n",
    "import mpl_toolkits\n",
    "%matplotlib inline\n",
    "\n",
    "\n",
    "f = pd.read_csv('./all/train.csv')\n",
    "\n",
    "# f.hist(bins=50, figsize=(20,15))\n",
    "# plt.savefig(\"attribute_histogram_plots\")\n",
    "#     #plt.show()\n",
    "# corr_matrix = f.corr()\n",
    "# with pd.option_context('display.max_rows', None, 'display.max_columns', None):\n",
    "#     print(f.describe())\n",
    "#     print(corr_matrix)\n",
    "\n",
    "# attributes = [\"crim\", \"indus\", \"nox\", \"rad\",'tax']\n",
    "# scatter_matrix(f[attributes], figsize=(12, 8))\n",
    "# plt.savefig('matrix.png')\n",
    "\n",
    "print(f.head())\n",
    "print(f.describe())\n",
    "plt.figure(figsize=(10,10))\n",
    "sns.jointplot(x = f.age.values, y = f.medv.values, size = 10)\n",
    "plt.title('crime rate')\n",
    "plt.xlabel('crime rate')\n",
    "plt.ylabel('price')\n",
    "plt.show()\n",
    "sns.despine"
   ]
  },
  {
   "cell_type": "code",
   "execution_count": 20,
   "metadata": {},
   "outputs": [
    {
     "data": {
      "text/plain": [
       "0.8273610784100299"
      ]
     },
     "execution_count": 20,
     "metadata": {},
     "output_type": "execute_result"
    }
   ],
   "source": [
    "from sklearn.linear_model import LinearRegression\n",
    "from sklearn.model_selection import train_test_split\n",
    "reg = LinearRegression()\n",
    "labels = f['medv']\n",
    "train1 = f.drop(['ID', 'medv'],axis = 1)\n",
    "x_train, x_test, y_train, y_test = train_test_split(train1, labels, test_size = 10, random_state = 2)\n",
    "reg.fit(x_train, y_train)\n",
    "reg.score(x_test,y_test)"
   ]
  },
  {
   "cell_type": "code",
   "execution_count": 18,
   "metadata": {
    "collapsed": true
   },
   "outputs": [],
   "source": [
    "from sklearn.model_selection import train_test_split"
   ]
  },
  {
   "cell_type": "code",
   "execution_count": 19,
   "metadata": {},
   "outputs": [
    {
     "ename": "NameError",
     "evalue": "name 'train1' is not defined",
     "output_type": "error",
     "traceback": [
      "\u001b[0;31m---------------------------------------------------------------------------\u001b[0m",
      "\u001b[0;31mNameError\u001b[0m                                 Traceback (most recent call last)",
      "\u001b[0;32m<ipython-input-19-68387e4ddfef>\u001b[0m in \u001b[0;36m<module>\u001b[0;34m()\u001b[0m\n\u001b[0;32m----> 1\u001b[0;31m \u001b[0mx_train\u001b[0m\u001b[0;34m,\u001b[0m \u001b[0mx_test\u001b[0m\u001b[0;34m,\u001b[0m \u001b[0my_train\u001b[0m\u001b[0;34m,\u001b[0m \u001b[0my_test\u001b[0m \u001b[0;34m=\u001b[0m \u001b[0mtrain_test_split\u001b[0m\u001b[0;34m(\u001b[0m\u001b[0mtrain1\u001b[0m\u001b[0;34m,\u001b[0m \u001b[0mlabels\u001b[0m\u001b[0;34m,\u001b[0m \u001b[0mtest_size\u001b[0m \u001b[0;34m=\u001b[0m \u001b[0;36m10\u001b[0m\u001b[0;34m,\u001b[0m \u001b[0mrandom_state\u001b[0m \u001b[0;34m=\u001b[0m \u001b[0;36m2\u001b[0m\u001b[0;34m)\u001b[0m\u001b[0;34m\u001b[0m\u001b[0m\n\u001b[0m\u001b[1;32m      2\u001b[0m \u001b[0mreg\u001b[0m\u001b[0;34m.\u001b[0m\u001b[0mfit\u001b[0m\u001b[0;34m(\u001b[0m\u001b[0mx_train\u001b[0m\u001b[0;34m,\u001b[0m \u001b[0my_train\u001b[0m\u001b[0;34m)\u001b[0m\u001b[0;34m\u001b[0m\u001b[0m\n\u001b[1;32m      3\u001b[0m \u001b[0mreg\u001b[0m\u001b[0;34m.\u001b[0m\u001b[0mscore\u001b[0m\u001b[0;34m(\u001b[0m\u001b[0mx_test\u001b[0m\u001b[0;34m,\u001b[0m\u001b[0my_test\u001b[0m\u001b[0;34m)\u001b[0m\u001b[0;34m\u001b[0m\u001b[0m\n",
      "\u001b[0;31mNameError\u001b[0m: name 'train1' is not defined"
     ]
    }
   ],
   "source": [
    "x_train, x_test, y_train, y_test = train_test_split(train1, labels, test_size = 10, random_state = 2)\n",
    "reg.fit(x_train, y_train)\n",
    "reg.score(x_test,y_test)\n"
   ]
  },
  {
   "cell_type": "code",
   "execution_count": null,
   "metadata": {
    "collapsed": true
   },
   "outputs": [],
   "source": []
  }
 ],
 "metadata": {
  "kernelspec": {
   "display_name": "Python 3",
   "language": "python",
   "name": "python3"
  },
  "language_info": {
   "codemirror_mode": {
    "name": "ipython",
    "version": 3
   },
   "file_extension": ".py",
   "mimetype": "text/x-python",
   "name": "python",
   "nbconvert_exporter": "python",
   "pygments_lexer": "ipython3",
   "version": "3.6.2"
  }
 },
 "nbformat": 4,
 "nbformat_minor": 2
}
